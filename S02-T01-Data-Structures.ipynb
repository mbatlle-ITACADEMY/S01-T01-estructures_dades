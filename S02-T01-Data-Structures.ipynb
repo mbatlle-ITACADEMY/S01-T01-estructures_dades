{
 "cells": [
  {
   "cell_type": "markdown",
   "metadata": {},
   "source": [
    "# S01-T02: Data Structures\n",
    "We start to familiarize with Python data structures\n",
    "\n",
    "## Goals:\n",
    "1. Lists\n",
    "1. Tuples\n",
    "1. Sets\n",
    "1. Dictionaries"
   ]
  },
  {
   "cell_type": "code",
   "execution_count": 78,
   "metadata": {},
   "outputs": [],
   "source": [
    "# Loading packages and setting functions"
   ]
  },
  {
   "cell_type": "markdown",
   "metadata": {},
   "source": [
    "## Exercise 1\n",
    "Create a list that groups the months of the year into quarters (Q1: January, February and March, Q2: April, May, June ...), that is, a list with 4 lists inside"
   ]
  },
  {
   "cell_type": "code",
   "execution_count": 79,
   "metadata": {},
   "outputs": [],
   "source": [
    "months = ['January','February','March'],['April','May','June'],['July','August','September'],['October','November','December']"
   ]
  },
  {
   "cell_type": "markdown",
   "metadata": {},
   "source": [
    "## Exercise 2\n",
    "Create a code that allows you to access:\n",
    "1. The second month of the first quarter\n",
    "1. The months of the first quarter\n",
    "1. September and October"
   ]
  },
  {
   "cell_type": "code",
   "execution_count": 80,
   "metadata": {},
   "outputs": [
    {
     "name": "stdout",
     "output_type": "stream",
     "text": [
      "['January', 'February', 'March']\n"
     ]
    }
   ],
   "source": [
    "print([x for x in months[0]])"
   ]
  },
  {
   "cell_type": "code",
   "execution_count": 81,
   "metadata": {},
   "outputs": [
    {
     "name": "stdout",
     "output_type": "stream",
     "text": [
      "February\n",
      "['January', 'February', 'March']\n",
      "September October\n"
     ]
    }
   ],
   "source": [
    "print(months[0][1])\n",
    "print(months[0])\n",
    "print(months[2][2],months[3][0])"
   ]
  },
  {
   "cell_type": "markdown",
   "metadata": {},
   "source": [
    "## Exercice 3\n",
    "Create a list of disordered numbers and answer the following questions."
   ]
  },
  {
   "cell_type": "code",
   "execution_count": 82,
   "metadata": {},
   "outputs": [
    {
     "name": "stdout",
     "output_type": "stream",
     "text": [
      "[3, 1, 7, 7, 2, 7, 0, 8, 1, 5, 2, 7, 1, 3, 7]\n"
     ]
    }
   ],
   "source": [
    "import numpy as np\n",
    "num = list(np.random.choice(range(0,11),15,replace=True))\n",
    "print(num)"
   ]
  },
  {
   "cell_type": "code",
   "execution_count": 83,
   "metadata": {},
   "outputs": [
    {
     "name": "stdout",
     "output_type": "stream",
     "text": [
      "How many numbers are there?: 15\n",
      "How many times does the number 3 appear?: 2\n",
      "How often do numbers 3 and 4 appear?: 2\n",
      "What is the largest number?: 8\n",
      "What are the 3 smallest numbers?: [0, 1, 1]\n",
      "What is the range of this list?: 0 - 8\n"
     ]
    }
   ],
   "source": [
    "## Question 1 - How many numbers are there?\n",
    "print('How many numbers are there?:',len(num))\n",
    "\n",
    "## Question 2 - How many times does the number 3 appear?\n",
    "print('How many times does the number 3 appear?:',num.count(3))\n",
    "\n",
    "## Question 3 - How often do numbers 3 and 4 appear?\n",
    "print('How often do numbers 3 and 4 appear?:',num.count(3)+num.count(4))\n",
    "\n",
    "## Question 4 - What is the largest number?\n",
    "print('What is the largest number?:',max(num))\n",
    "\n",
    "## Question 5 - What are the 3 smallest numbers?\n",
    "print('What are the 3 smallest numbers?:',sorted(num)[0:3])\n",
    "\n",
    "## Question 6 - What is the range of this list?\n",
    "print('What is the range of this list?:',min(num),'-',max(num))"
   ]
  },
  {
   "cell_type": "markdown",
   "metadata": {},
   "source": [
    "## Exercise 4\n",
    "Create a dictionary as follows and answer the questions."
   ]
  },
  {
   "cell_type": "code",
   "execution_count": 84,
   "metadata": {},
   "outputs": [],
   "source": [
    "## Creating dic\n",
    "buy = {\n",
    "    \"Apples\": {\"Qty\": 5, \"€\": 0.42},\n",
    "    \"Pears\": {\"Qty\": 3, \"€\": 0.66}\n",
    "}"
   ]
  },
  {
   "cell_type": "code",
   "execution_count": 85,
   "metadata": {},
   "outputs": [
    {
     "name": "stdout",
     "output_type": "stream",
     "text": [
      "Add some more fruit: Bananas {'Qty': 2, '€': 0.53}\n",
      "How much did the pears cost in total? 1.98\n",
      "How many fruits did we buy in total? 10\n",
      "What is the most expensive fruit? 0.66\n"
     ]
    }
   ],
   "source": [
    "# Question 1 - Add some more fruit\n",
    "buy['Bananas'] = {\"Qty\": 2, \"€\": 0.53}\n",
    "print('Add some more fruit:','Bananas',buy['Bananas'])\n",
    "\n",
    "# Question 2 - How much did the pears cost in total?\n",
    "print('How much did the pears cost in total?',buy['Pears']['Qty']*buy['Pears']['€'])\n",
    "\n",
    "# Question 3 - How many fruits did we buy in total?\n",
    "total_fruits = 0\n",
    "for x in buy.keys():\n",
    "    total_fruits += buy[x]['Qty']\n",
    "print('How many fruits did we buy in total?',total_fruits)\n",
    "\n",
    "# Question 4 - What is the most expensive fruit?\n",
    "prices = []\n",
    "for x in buy.keys():\n",
    "    prices.append(buy[x]['€'])\n",
    "print('What is the most expensive fruit?',max(prices))"
   ]
  }
 ],
 "metadata": {
  "interpreter": {
   "hash": "f9f85f796d01129d0dd105a088854619f454435301f6ffec2fea96ecbd9be4ac"
  },
  "kernelspec": {
   "display_name": "Python 3.9.9 64-bit",
   "language": "python",
   "name": "python3"
  },
  "language_info": {
   "codemirror_mode": {
    "name": "ipython",
    "version": 3
   },
   "file_extension": ".py",
   "mimetype": "text/x-python",
   "name": "python",
   "nbconvert_exporter": "python",
   "pygments_lexer": "ipython3",
   "version": "3.10.0"
  },
  "orig_nbformat": 4
 },
 "nbformat": 4,
 "nbformat_minor": 2
}
